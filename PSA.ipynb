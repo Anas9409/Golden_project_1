{
 "cells": [
  {
   "cell_type": "code",
   "execution_count": 1,
   "metadata": {},
   "outputs": [],
   "source": [
    "import pandas as pd\n",
    "import numpy as np\n",
    "import matplotlib.pyplot as plt\n",
    "import seaborn as sns\n",
    "import warnings\n",
    "warnings.simplefilter('ignore')"
   ]
  },
  {
   "cell_type": "code",
   "execution_count": 2,
   "metadata": {},
   "outputs": [],
   "source": [
    "df = pd.read_csv('attacks.csv')"
   ]
  },
  {
   "cell_type": "markdown",
   "metadata": {},
   "source": [
    "## Data Exploration"
   ]
  },
  {
   "cell_type": "code",
   "execution_count": 3,
   "metadata": {},
   "outputs": [
    {
     "data": {
      "text/plain": [
       "(988, 25)"
      ]
     },
     "execution_count": 3,
     "metadata": {},
     "output_type": "execute_result"
    }
   ],
   "source": [
    "df.shape"
   ]
  },
  {
   "cell_type": "code",
   "execution_count": 4,
   "metadata": {},
   "outputs": [
    {
     "data": {
      "text/html": [
       "<div>\n",
       "<style scoped>\n",
       "    .dataframe tbody tr th:only-of-type {\n",
       "        vertical-align: middle;\n",
       "    }\n",
       "\n",
       "    .dataframe tbody tr th {\n",
       "        vertical-align: top;\n",
       "    }\n",
       "\n",
       "    .dataframe thead th {\n",
       "        text-align: right;\n",
       "    }\n",
       "</style>\n",
       "<table border=\"1\" class=\"dataframe\">\n",
       "  <thead>\n",
       "    <tr style=\"text-align: right;\">\n",
       "      <th></th>\n",
       "      <th>Date</th>\n",
       "      <th>Islamic Date</th>\n",
       "      <th>Blast Day Type</th>\n",
       "      <th>Holiday Type</th>\n",
       "      <th>Time</th>\n",
       "      <th>City</th>\n",
       "      <th>Latitude</th>\n",
       "      <th>Longitude</th>\n",
       "      <th>Province</th>\n",
       "      <th>Location</th>\n",
       "      <th>...</th>\n",
       "      <th>Targeted Sect if any</th>\n",
       "      <th>Killed Min</th>\n",
       "      <th>Killed Max</th>\n",
       "      <th>Injured Min</th>\n",
       "      <th>Injured Max</th>\n",
       "      <th>No. of Suicide Blasts</th>\n",
       "      <th>Explosive Weight (max)</th>\n",
       "      <th>Hospital Names</th>\n",
       "      <th>Temperature(C)</th>\n",
       "      <th>Temperature(F)</th>\n",
       "    </tr>\n",
       "  </thead>\n",
       "  <tbody>\n",
       "    <tr>\n",
       "      <th>0</th>\n",
       "      <td>Sunday-November 19-1995</td>\n",
       "      <td>25 Jumaada al-THaany 1416 A.H</td>\n",
       "      <td>Holiday</td>\n",
       "      <td>Weekend</td>\n",
       "      <td>NaN</td>\n",
       "      <td>Islamabad</td>\n",
       "      <td>33.7180</td>\n",
       "      <td>73.0718</td>\n",
       "      <td>Capital</td>\n",
       "      <td>Egyptian Embassy</td>\n",
       "      <td>...</td>\n",
       "      <td>NaN</td>\n",
       "      <td>14.0</td>\n",
       "      <td>15.0</td>\n",
       "      <td>NaN</td>\n",
       "      <td>60</td>\n",
       "      <td>2.0</td>\n",
       "      <td>NaN</td>\n",
       "      <td>NaN</td>\n",
       "      <td>15.835</td>\n",
       "      <td>60.503</td>\n",
       "    </tr>\n",
       "    <tr>\n",
       "      <th>1</th>\n",
       "      <td>Monday-November 6-2000</td>\n",
       "      <td>10 SHa`baan 1421 A.H</td>\n",
       "      <td>Working Day</td>\n",
       "      <td>NaN</td>\n",
       "      <td>NaN</td>\n",
       "      <td>Karachi</td>\n",
       "      <td>24.9918</td>\n",
       "      <td>66.9911</td>\n",
       "      <td>Sindh</td>\n",
       "      <td>office of Nawa-e-Waqt</td>\n",
       "      <td>...</td>\n",
       "      <td>NaN</td>\n",
       "      <td>NaN</td>\n",
       "      <td>3.0</td>\n",
       "      <td>NaN</td>\n",
       "      <td>3</td>\n",
       "      <td>1.0</td>\n",
       "      <td>NaN</td>\n",
       "      <td>NaN</td>\n",
       "      <td>23.770</td>\n",
       "      <td>74.786</td>\n",
       "    </tr>\n",
       "    <tr>\n",
       "      <th>2</th>\n",
       "      <td>Wednesday-May 8-2002</td>\n",
       "      <td>25 safar 1423 A.H</td>\n",
       "      <td>Working Day</td>\n",
       "      <td>NaN</td>\n",
       "      <td>7:45 AM</td>\n",
       "      <td>Karachi</td>\n",
       "      <td>24.9918</td>\n",
       "      <td>66.9911</td>\n",
       "      <td>Sindh</td>\n",
       "      <td>Pakistan Navy bus Parked outside Five Star She...</td>\n",
       "      <td>...</td>\n",
       "      <td>Christian</td>\n",
       "      <td>13.0</td>\n",
       "      <td>15.0</td>\n",
       "      <td>20.0</td>\n",
       "      <td>40</td>\n",
       "      <td>1.0</td>\n",
       "      <td>2.5 Kg</td>\n",
       "      <td>1.Jinnah Postgraduate Medical Center 2. Civil ...</td>\n",
       "      <td>31.460</td>\n",
       "      <td>88.628</td>\n",
       "    </tr>\n",
       "    <tr>\n",
       "      <th>3</th>\n",
       "      <td>Friday-June 14-2002</td>\n",
       "      <td>3 Raby` al-THaany 1423 A.H</td>\n",
       "      <td>Working Day</td>\n",
       "      <td>NaN</td>\n",
       "      <td>11:10:00 AM</td>\n",
       "      <td>Karachi</td>\n",
       "      <td>24.9918</td>\n",
       "      <td>66.9911</td>\n",
       "      <td>Sindh</td>\n",
       "      <td>US Consulate Civil Lines Area</td>\n",
       "      <td>...</td>\n",
       "      <td>Christian</td>\n",
       "      <td>NaN</td>\n",
       "      <td>12.0</td>\n",
       "      <td>NaN</td>\n",
       "      <td>51</td>\n",
       "      <td>1.0</td>\n",
       "      <td>NaN</td>\n",
       "      <td>NaN</td>\n",
       "      <td>31.430</td>\n",
       "      <td>88.574</td>\n",
       "    </tr>\n",
       "    <tr>\n",
       "      <th>4</th>\n",
       "      <td>Friday-July 4-2003</td>\n",
       "      <td>4 Jumaada al-awal 1424 A.H</td>\n",
       "      <td>Working Day</td>\n",
       "      <td>NaN</td>\n",
       "      <td>NaN</td>\n",
       "      <td>Quetta</td>\n",
       "      <td>30.2095</td>\n",
       "      <td>67.0182</td>\n",
       "      <td>Baluchistan</td>\n",
       "      <td>Imambargah MeCongy Road Quetta</td>\n",
       "      <td>...</td>\n",
       "      <td>Shiite</td>\n",
       "      <td>44.0</td>\n",
       "      <td>47.0</td>\n",
       "      <td>NaN</td>\n",
       "      <td>65</td>\n",
       "      <td>1.0</td>\n",
       "      <td>NaN</td>\n",
       "      <td>1.CMH Quetta \\n2.Civil Hospital 3. Boland Medi...</td>\n",
       "      <td>33.120</td>\n",
       "      <td>91.616</td>\n",
       "    </tr>\n",
       "  </tbody>\n",
       "</table>\n",
       "<p>5 rows × 25 columns</p>\n",
       "</div>"
      ],
      "text/plain": [
       "                      Date                   Islamic Date Blast Day Type  \\\n",
       "0  Sunday-November 19-1995  25 Jumaada al-THaany 1416 A.H        Holiday   \n",
       "1   Monday-November 6-2000           10 SHa`baan 1421 A.H    Working Day   \n",
       "2     Wednesday-May 8-2002              25 safar 1423 A.H    Working Day   \n",
       "3      Friday-June 14-2002     3 Raby` al-THaany 1423 A.H    Working Day   \n",
       "4       Friday-July 4-2003     4 Jumaada al-awal 1424 A.H    Working Day   \n",
       "\n",
       "  Holiday Type         Time       City  Latitude Longitude     Province  \\\n",
       "0      Weekend          NaN  Islamabad   33.7180   73.0718      Capital   \n",
       "1          NaN          NaN    Karachi   24.9918   66.9911        Sindh   \n",
       "2          NaN      7:45 AM   Karachi    24.9918   66.9911        Sindh   \n",
       "3          NaN  11:10:00 AM    Karachi   24.9918   66.9911        Sindh   \n",
       "4          NaN          NaN     Quetta   30.2095   67.0182  Baluchistan   \n",
       "\n",
       "                                            Location  ...  \\\n",
       "0                                   Egyptian Embassy  ...   \n",
       "1                              office of Nawa-e-Waqt  ...   \n",
       "2  Pakistan Navy bus Parked outside Five Star She...  ...   \n",
       "3                     US Consulate Civil Lines Area   ...   \n",
       "4                     Imambargah MeCongy Road Quetta  ...   \n",
       "\n",
       "  Targeted Sect if any Killed Min Killed Max Injured Min Injured Max  \\\n",
       "0                  NaN       14.0       15.0         NaN          60   \n",
       "1                  NaN        NaN        3.0         NaN           3   \n",
       "2            Christian       13.0       15.0        20.0          40   \n",
       "3            Christian        NaN       12.0         NaN          51   \n",
       "4               Shiite       44.0       47.0         NaN          65   \n",
       "\n",
       "  No. of Suicide Blasts  Explosive Weight (max)  \\\n",
       "0                   2.0                     NaN   \n",
       "1                   1.0                     NaN   \n",
       "2                   1.0                  2.5 Kg   \n",
       "3                   1.0                     NaN   \n",
       "4                   1.0                     NaN   \n",
       "\n",
       "                                      Hospital Names  Temperature(C)  \\\n",
       "0                                                NaN          15.835   \n",
       "1                                                NaN          23.770   \n",
       "2  1.Jinnah Postgraduate Medical Center 2. Civil ...          31.460   \n",
       "3                                                NaN          31.430   \n",
       "4  1.CMH Quetta \\n2.Civil Hospital 3. Boland Medi...          33.120   \n",
       "\n",
       "  Temperature(F)  \n",
       "0         60.503  \n",
       "1         74.786  \n",
       "2         88.628  \n",
       "3         88.574  \n",
       "4         91.616  \n",
       "\n",
       "[5 rows x 25 columns]"
      ]
     },
     "execution_count": 4,
     "metadata": {},
     "output_type": "execute_result"
    }
   ],
   "source": [
    "df.head()"
   ]
  },
  {
   "cell_type": "code",
   "execution_count": 5,
   "metadata": {},
   "outputs": [
    {
     "data": {
      "text/html": [
       "<div>\n",
       "<style scoped>\n",
       "    .dataframe tbody tr th:only-of-type {\n",
       "        vertical-align: middle;\n",
       "    }\n",
       "\n",
       "    .dataframe tbody tr th {\n",
       "        vertical-align: top;\n",
       "    }\n",
       "\n",
       "    .dataframe thead th {\n",
       "        text-align: right;\n",
       "    }\n",
       "</style>\n",
       "<table border=\"1\" class=\"dataframe\">\n",
       "  <thead>\n",
       "    <tr style=\"text-align: right;\">\n",
       "      <th></th>\n",
       "      <th>Date</th>\n",
       "      <th>Islamic Date</th>\n",
       "      <th>Blast Day Type</th>\n",
       "      <th>Holiday Type</th>\n",
       "      <th>Time</th>\n",
       "      <th>City</th>\n",
       "      <th>Latitude</th>\n",
       "      <th>Longitude</th>\n",
       "      <th>Province</th>\n",
       "      <th>Location</th>\n",
       "      <th>...</th>\n",
       "      <th>Targeted Sect if any</th>\n",
       "      <th>Killed Min</th>\n",
       "      <th>Killed Max</th>\n",
       "      <th>Injured Min</th>\n",
       "      <th>Injured Max</th>\n",
       "      <th>No. of Suicide Blasts</th>\n",
       "      <th>Explosive Weight (max)</th>\n",
       "      <th>Hospital Names</th>\n",
       "      <th>Temperature(C)</th>\n",
       "      <th>Temperature(F)</th>\n",
       "    </tr>\n",
       "  </thead>\n",
       "  <tbody>\n",
       "    <tr>\n",
       "      <th>983</th>\n",
       "      <td>Monday-July-17-2017</td>\n",
       "      <td>22 Shawaal 1432 A.H</td>\n",
       "      <td>Working Day</td>\n",
       "      <td>NaN</td>\n",
       "      <td>NaN</td>\n",
       "      <td>Peshawar</td>\n",
       "      <td>34.015000</td>\n",
       "      <td>71.5805</td>\n",
       "      <td>KPK</td>\n",
       "      <td>near the Afghan border</td>\n",
       "      <td>...</td>\n",
       "      <td>NaN</td>\n",
       "      <td>1.0</td>\n",
       "      <td>2.0</td>\n",
       "      <td>1.0</td>\n",
       "      <td>7</td>\n",
       "      <td>1.0</td>\n",
       "      <td>NaN</td>\n",
       "      <td>NaN</td>\n",
       "      <td>37.0</td>\n",
       "      <td>98.0</td>\n",
       "    </tr>\n",
       "    <tr>\n",
       "      <th>984</th>\n",
       "      <td>Monday-July-17-2017</td>\n",
       "      <td>22 Shawaal 1432 A.H</td>\n",
       "      <td>Working Day</td>\n",
       "      <td>NaN</td>\n",
       "      <td>NaN</td>\n",
       "      <td>Peshawar</td>\n",
       "      <td>34.015000</td>\n",
       "      <td>71.5805</td>\n",
       "      <td>KPK</td>\n",
       "      <td>southwestern Chaman province</td>\n",
       "      <td>...</td>\n",
       "      <td>NaN</td>\n",
       "      <td>1.0</td>\n",
       "      <td>1.0</td>\n",
       "      <td>1.0</td>\n",
       "      <td>1</td>\n",
       "      <td>1.0</td>\n",
       "      <td>NaN</td>\n",
       "      <td>NaN</td>\n",
       "      <td>37.0</td>\n",
       "      <td>98.0</td>\n",
       "    </tr>\n",
       "    <tr>\n",
       "      <th>985</th>\n",
       "      <td>Monday-July-24-2017</td>\n",
       "      <td>29 Shawaal 1432 A.H</td>\n",
       "      <td>Working Day</td>\n",
       "      <td>NaN</td>\n",
       "      <td>3:55pm</td>\n",
       "      <td>Lahore</td>\n",
       "      <td>31.500875</td>\n",
       "      <td>74.33312</td>\n",
       "      <td>Punjab</td>\n",
       "      <td>near Arfa Karim IT Tower Ferozepur Road</td>\n",
       "      <td>...</td>\n",
       "      <td>NaN</td>\n",
       "      <td>26.0</td>\n",
       "      <td>27.0</td>\n",
       "      <td>56.0</td>\n",
       "      <td>56</td>\n",
       "      <td>1.0</td>\n",
       "      <td>NaN</td>\n",
       "      <td>Jinnah Hospital, General Hospital, Ittefaq Hos...</td>\n",
       "      <td>32.0</td>\n",
       "      <td>88.0</td>\n",
       "    </tr>\n",
       "    <tr>\n",
       "      <th>986</th>\n",
       "      <td>Saturday-August-12-2017</td>\n",
       "      <td>NaN</td>\n",
       "      <td>Weekend</td>\n",
       "      <td>NaN</td>\n",
       "      <td>5:00PM</td>\n",
       "      <td>Quetta</td>\n",
       "      <td>30.203658</td>\n",
       "      <td>67.004469</td>\n",
       "      <td>Balochistan</td>\n",
       "      <td>Pishin bus stop</td>\n",
       "      <td>...</td>\n",
       "      <td>NaN</td>\n",
       "      <td>15.0</td>\n",
       "      <td>15.0</td>\n",
       "      <td>40.0</td>\n",
       "      <td>40</td>\n",
       "      <td>1.0</td>\n",
       "      <td>25KG</td>\n",
       "      <td>NaN</td>\n",
       "      <td>29.0</td>\n",
       "      <td>NaN</td>\n",
       "    </tr>\n",
       "    <tr>\n",
       "      <th>987</th>\n",
       "      <td>Thursday-October-05-2017</td>\n",
       "      <td>NaN</td>\n",
       "      <td>NaN</td>\n",
       "      <td>NaN</td>\n",
       "      <td>NaN</td>\n",
       "      <td>Quetta</td>\n",
       "      <td>28.571051</td>\n",
       "      <td>67.496895</td>\n",
       "      <td>Balochistan</td>\n",
       "      <td>Fateh Pur Shrine in Jhal Magsi village</td>\n",
       "      <td>...</td>\n",
       "      <td>NaN</td>\n",
       "      <td>21.0</td>\n",
       "      <td>22.0</td>\n",
       "      <td>25.0</td>\n",
       "      <td>NaN</td>\n",
       "      <td>1.0</td>\n",
       "      <td>NaN</td>\n",
       "      <td>Larkana Hospital, Gandawah District Headquarte...</td>\n",
       "      <td>27.8</td>\n",
       "      <td>81.0</td>\n",
       "    </tr>\n",
       "  </tbody>\n",
       "</table>\n",
       "<p>5 rows × 25 columns</p>\n",
       "</div>"
      ],
      "text/plain": [
       "                         Date         Islamic Date Blast Day Type  \\\n",
       "983       Monday-July-17-2017  22 Shawaal 1432 A.H    Working Day   \n",
       "984       Monday-July-17-2017  22 Shawaal 1432 A.H    Working Day   \n",
       "985       Monday-July-24-2017  29 Shawaal 1432 A.H    Working Day   \n",
       "986   Saturday-August-12-2017                  NaN        Weekend   \n",
       "987  Thursday-October-05-2017                  NaN            NaN   \n",
       "\n",
       "    Holiday Type    Time      City   Latitude  Longitude     Province  \\\n",
       "983          NaN     NaN  Peshawar  34.015000    71.5805          KPK   \n",
       "984          NaN     NaN  Peshawar  34.015000    71.5805          KPK   \n",
       "985          NaN  3:55pm    Lahore  31.500875   74.33312       Punjab   \n",
       "986          NaN  5:00PM    Quetta  30.203658  67.004469  Balochistan   \n",
       "987          NaN     NaN    Quetta  28.571051  67.496895  Balochistan   \n",
       "\n",
       "                                    Location  ... Targeted Sect if any  \\\n",
       "983                   near the Afghan border  ...                  NaN   \n",
       "984             southwestern Chaman province  ...                  NaN   \n",
       "985  near Arfa Karim IT Tower Ferozepur Road  ...                  NaN   \n",
       "986                          Pishin bus stop  ...                  NaN   \n",
       "987   Fateh Pur Shrine in Jhal Magsi village  ...                  NaN   \n",
       "\n",
       "    Killed Min Killed Max Injured Min Injured Max No. of Suicide Blasts  \\\n",
       "983        1.0        2.0         1.0           7                   1.0   \n",
       "984        1.0        1.0         1.0           1                   1.0   \n",
       "985       26.0       27.0        56.0          56                   1.0   \n",
       "986       15.0       15.0        40.0          40                   1.0   \n",
       "987       21.0       22.0        25.0         NaN                   1.0   \n",
       "\n",
       "     Explosive Weight (max)  \\\n",
       "983                     NaN   \n",
       "984                     NaN   \n",
       "985                     NaN   \n",
       "986                    25KG   \n",
       "987                     NaN   \n",
       "\n",
       "                                        Hospital Names  Temperature(C)  \\\n",
       "983                                                NaN            37.0   \n",
       "984                                                NaN            37.0   \n",
       "985  Jinnah Hospital, General Hospital, Ittefaq Hos...            32.0   \n",
       "986                                                NaN            29.0   \n",
       "987  Larkana Hospital, Gandawah District Headquarte...            27.8   \n",
       "\n",
       "    Temperature(F)  \n",
       "983           98.0  \n",
       "984           98.0  \n",
       "985           88.0  \n",
       "986            NaN  \n",
       "987           81.0  \n",
       "\n",
       "[5 rows x 25 columns]"
      ]
     },
     "execution_count": 5,
     "metadata": {},
     "output_type": "execute_result"
    }
   ],
   "source": [
    "df.tail()"
   ]
  },
  {
   "cell_type": "code",
   "execution_count": 6,
   "metadata": {},
   "outputs": [
    {
     "data": {
      "text/plain": [
       "Index(['Date', 'Islamic Date', 'Blast Day Type', 'Holiday Type', 'Time',\n",
       "       'City', 'Latitude', 'Longitude', 'Province', 'Location',\n",
       "       'Location Category', 'Location Sensitivity', 'Open/Closed Space',\n",
       "       'Influencing Event/Event', 'Target Type', 'Targeted Sect if any',\n",
       "       'Killed Min', 'Killed Max', 'Injured Min', 'Injured Max',\n",
       "       'No. of Suicide Blasts', 'Explosive Weight (max)', 'Hospital Names',\n",
       "       'Temperature(C)', 'Temperature(F)'],\n",
       "      dtype='object')"
      ]
     },
     "execution_count": 6,
     "metadata": {},
     "output_type": "execute_result"
    }
   ],
   "source": [
    "df.columns"
   ]
  },
  {
   "cell_type": "code",
   "execution_count": 7,
   "metadata": {},
   "outputs": [
    {
     "name": "stdout",
     "output_type": "stream",
     "text": [
      "<class 'pandas.core.frame.DataFrame'>\n",
      "RangeIndex: 988 entries, 0 to 987\n",
      "Data columns (total 25 columns):\n",
      " #   Column                   Non-Null Count  Dtype  \n",
      "---  ------                   --------------  -----  \n",
      " 0   Date                     988 non-null    object \n",
      " 1   Islamic Date             678 non-null    object \n",
      " 2   Blast Day Type           967 non-null    object \n",
      " 3   Holiday Type             144 non-null    object \n",
      " 4   Time                     566 non-null    object \n",
      " 5   City                     988 non-null    object \n",
      " 6   Latitude                 983 non-null    float64\n",
      " 7   Longitude                983 non-null    object \n",
      " 8   Province                 988 non-null    object \n",
      " 9   Location                 982 non-null    object \n",
      " 10  Location Category        988 non-null    object \n",
      " 11  Location Sensitivity     988 non-null    object \n",
      " 12  Open/Closed Space        918 non-null    object \n",
      " 13  Influencing Event/Event  378 non-null    object \n",
      " 14  Target Type              988 non-null    object \n",
      " 15  Targeted Sect if any     194 non-null    object \n",
      " 16  Killed Min               696 non-null    float64\n",
      " 17  Killed Max               988 non-null    float64\n",
      " 18  Injured Min              726 non-null    float64\n",
      " 19  Injured Max              924 non-null    object \n",
      " 20  No. of Suicide Blasts    824 non-null    float64\n",
      " 21  Explosive Weight (max)   341 non-null    object \n",
      " 22  Hospital Names           591 non-null    object \n",
      " 23  Temperature(C)           978 non-null    float64\n",
      " 24  Temperature(F)           974 non-null    float64\n",
      "dtypes: float64(7), object(18)\n",
      "memory usage: 193.1+ KB\n"
     ]
    }
   ],
   "source": [
    "df.info()"
   ]
  },
  {
   "cell_type": "code",
   "execution_count": 8,
   "metadata": {},
   "outputs": [
    {
     "data": {
      "text/html": [
       "<div>\n",
       "<style scoped>\n",
       "    .dataframe tbody tr th:only-of-type {\n",
       "        vertical-align: middle;\n",
       "    }\n",
       "\n",
       "    .dataframe tbody tr th {\n",
       "        vertical-align: top;\n",
       "    }\n",
       "\n",
       "    .dataframe thead th {\n",
       "        text-align: right;\n",
       "    }\n",
       "</style>\n",
       "<table border=\"1\" class=\"dataframe\">\n",
       "  <thead>\n",
       "    <tr style=\"text-align: right;\">\n",
       "      <th></th>\n",
       "      <th>Date</th>\n",
       "      <th>Islamic Date</th>\n",
       "      <th>Blast Day Type</th>\n",
       "      <th>Holiday Type</th>\n",
       "      <th>Time</th>\n",
       "      <th>City</th>\n",
       "      <th>Longitude</th>\n",
       "      <th>Province</th>\n",
       "      <th>Location</th>\n",
       "      <th>Location Category</th>\n",
       "      <th>Location Sensitivity</th>\n",
       "      <th>Open/Closed Space</th>\n",
       "      <th>Influencing Event/Event</th>\n",
       "      <th>Target Type</th>\n",
       "      <th>Targeted Sect if any</th>\n",
       "      <th>Injured Max</th>\n",
       "      <th>Explosive Weight (max)</th>\n",
       "      <th>Hospital Names</th>\n",
       "    </tr>\n",
       "  </thead>\n",
       "  <tbody>\n",
       "    <tr>\n",
       "      <th>count</th>\n",
       "      <td>988</td>\n",
       "      <td>678</td>\n",
       "      <td>967</td>\n",
       "      <td>144</td>\n",
       "      <td>566</td>\n",
       "      <td>988</td>\n",
       "      <td>983</td>\n",
       "      <td>988</td>\n",
       "      <td>982</td>\n",
       "      <td>988</td>\n",
       "      <td>988</td>\n",
       "      <td>918</td>\n",
       "      <td>378</td>\n",
       "      <td>988</td>\n",
       "      <td>194</td>\n",
       "      <td>924</td>\n",
       "      <td>341</td>\n",
       "      <td>591</td>\n",
       "    </tr>\n",
       "    <tr>\n",
       "      <th>unique</th>\n",
       "      <td>455</td>\n",
       "      <td>311</td>\n",
       "      <td>3</td>\n",
       "      <td>15</td>\n",
       "      <td>220</td>\n",
       "      <td>93</td>\n",
       "      <td>100</td>\n",
       "      <td>9</td>\n",
       "      <td>487</td>\n",
       "      <td>26</td>\n",
       "      <td>3</td>\n",
       "      <td>6</td>\n",
       "      <td>174</td>\n",
       "      <td>24</td>\n",
       "      <td>7</td>\n",
       "      <td>91</td>\n",
       "      <td>114</td>\n",
       "      <td>239</td>\n",
       "    </tr>\n",
       "    <tr>\n",
       "      <th>top</th>\n",
       "      <td>Thursday-July 19-2007</td>\n",
       "      <td>5 Rajab 1428 A.H</td>\n",
       "      <td>Working Day</td>\n",
       "      <td>Weekend</td>\n",
       "      <td>Evening</td>\n",
       "      <td>Peshawar</td>\n",
       "      <td>71.5448</td>\n",
       "      <td>KPK</td>\n",
       "      <td>Imambargah</td>\n",
       "      <td>Police</td>\n",
       "      <td>High</td>\n",
       "      <td>Open</td>\n",
       "      <td>Sectarian strife</td>\n",
       "      <td>Military</td>\n",
       "      <td>Shiite</td>\n",
       "      <td>2</td>\n",
       "      <td>6kg</td>\n",
       "      <td>Lady Reading Hospital</td>\n",
       "    </tr>\n",
       "    <tr>\n",
       "      <th>freq</th>\n",
       "      <td>6</td>\n",
       "      <td>6</td>\n",
       "      <td>801</td>\n",
       "      <td>90</td>\n",
       "      <td>24</td>\n",
       "      <td>143</td>\n",
       "      <td>142</td>\n",
       "      <td>501</td>\n",
       "      <td>6</td>\n",
       "      <td>182</td>\n",
       "      <td>600</td>\n",
       "      <td>638</td>\n",
       "      <td>14</td>\n",
       "      <td>246</td>\n",
       "      <td>76</td>\n",
       "      <td>40</td>\n",
       "      <td>16</td>\n",
       "      <td>40</td>\n",
       "    </tr>\n",
       "  </tbody>\n",
       "</table>\n",
       "</div>"
      ],
      "text/plain": [
       "                         Date      Islamic Date Blast Day Type Holiday Type  \\\n",
       "count                     988               678            967          144   \n",
       "unique                    455               311              3           15   \n",
       "top     Thursday-July 19-2007  5 Rajab 1428 A.H    Working Day      Weekend   \n",
       "freq                        6                 6            801           90   \n",
       "\n",
       "           Time      City Longitude Province    Location Location Category  \\\n",
       "count       566       988       983      988         982               988   \n",
       "unique      220        93       100        9         487                26   \n",
       "top     Evening  Peshawar   71.5448      KPK  Imambargah            Police   \n",
       "freq         24       143       142      501           6               182   \n",
       "\n",
       "       Location Sensitivity Open/Closed Space Influencing Event/Event  \\\n",
       "count                   988               918                     378   \n",
       "unique                    3                 6                     174   \n",
       "top                    High              Open        Sectarian strife   \n",
       "freq                    600               638                      14   \n",
       "\n",
       "       Target Type Targeted Sect if any Injured Max Explosive Weight (max)  \\\n",
       "count          988                  194         924                    341   \n",
       "unique          24                    7          91                    114   \n",
       "top       Military               Shiite           2                    6kg   \n",
       "freq           246                   76          40                     16   \n",
       "\n",
       "               Hospital Names  \n",
       "count                     591  \n",
       "unique                    239  \n",
       "top     Lady Reading Hospital  \n",
       "freq                       40  "
      ]
     },
     "execution_count": 8,
     "metadata": {},
     "output_type": "execute_result"
    }
   ],
   "source": [
    "df.describe(include='object')"
   ]
  },
  {
   "cell_type": "code",
   "execution_count": 9,
   "metadata": {},
   "outputs": [
    {
     "data": {
      "text/html": [
       "<div>\n",
       "<style scoped>\n",
       "    .dataframe tbody tr th:only-of-type {\n",
       "        vertical-align: middle;\n",
       "    }\n",
       "\n",
       "    .dataframe tbody tr th {\n",
       "        vertical-align: top;\n",
       "    }\n",
       "\n",
       "    .dataframe thead th {\n",
       "        text-align: right;\n",
       "    }\n",
       "</style>\n",
       "<table border=\"1\" class=\"dataframe\">\n",
       "  <thead>\n",
       "    <tr style=\"text-align: right;\">\n",
       "      <th></th>\n",
       "      <th>Latitude</th>\n",
       "      <th>Killed Min</th>\n",
       "      <th>Killed Max</th>\n",
       "      <th>Injured Min</th>\n",
       "      <th>No. of Suicide Blasts</th>\n",
       "      <th>Temperature(C)</th>\n",
       "      <th>Temperature(F)</th>\n",
       "    </tr>\n",
       "  </thead>\n",
       "  <tbody>\n",
       "    <tr>\n",
       "      <th>count</th>\n",
       "      <td>983.000000</td>\n",
       "      <td>696.00000</td>\n",
       "      <td>988.000000</td>\n",
       "      <td>726.000000</td>\n",
       "      <td>824.000000</td>\n",
       "      <td>978.000000</td>\n",
       "      <td>974.000000</td>\n",
       "    </tr>\n",
       "    <tr>\n",
       "      <th>mean</th>\n",
       "      <td>32.618279</td>\n",
       "      <td>14.79023</td>\n",
       "      <td>15.253138</td>\n",
       "      <td>31.498623</td>\n",
       "      <td>1.116505</td>\n",
       "      <td>21.093650</td>\n",
       "      <td>69.939612</td>\n",
       "    </tr>\n",
       "    <tr>\n",
       "      <th>std</th>\n",
       "      <td>2.475619</td>\n",
       "      <td>17.61733</td>\n",
       "      <td>19.957268</td>\n",
       "      <td>38.656426</td>\n",
       "      <td>0.395625</td>\n",
       "      <td>8.375656</td>\n",
       "      <td>15.081500</td>\n",
       "    </tr>\n",
       "    <tr>\n",
       "      <th>min</th>\n",
       "      <td>24.879503</td>\n",
       "      <td>0.00000</td>\n",
       "      <td>0.000000</td>\n",
       "      <td>0.000000</td>\n",
       "      <td>1.000000</td>\n",
       "      <td>-2.370000</td>\n",
       "      <td>27.734000</td>\n",
       "    </tr>\n",
       "    <tr>\n",
       "      <th>25%</th>\n",
       "      <td>31.823800</td>\n",
       "      <td>3.00000</td>\n",
       "      <td>3.000000</td>\n",
       "      <td>7.000000</td>\n",
       "      <td>1.000000</td>\n",
       "      <td>14.650000</td>\n",
       "      <td>58.282250</td>\n",
       "    </tr>\n",
       "    <tr>\n",
       "      <th>50%</th>\n",
       "      <td>33.583300</td>\n",
       "      <td>8.00000</td>\n",
       "      <td>8.000000</td>\n",
       "      <td>20.000000</td>\n",
       "      <td>1.000000</td>\n",
       "      <td>21.295000</td>\n",
       "      <td>70.331000</td>\n",
       "    </tr>\n",
       "    <tr>\n",
       "      <th>75%</th>\n",
       "      <td>34.004300</td>\n",
       "      <td>20.25000</td>\n",
       "      <td>18.000000</td>\n",
       "      <td>40.000000</td>\n",
       "      <td>1.000000</td>\n",
       "      <td>28.145000</td>\n",
       "      <td>82.499000</td>\n",
       "    </tr>\n",
       "    <tr>\n",
       "      <th>max</th>\n",
       "      <td>35.383300</td>\n",
       "      <td>125.00000</td>\n",
       "      <td>148.000000</td>\n",
       "      <td>320.000000</td>\n",
       "      <td>4.000000</td>\n",
       "      <td>44.000000</td>\n",
       "      <td>111.000000</td>\n",
       "    </tr>\n",
       "  </tbody>\n",
       "</table>\n",
       "</div>"
      ],
      "text/plain": [
       "         Latitude  Killed Min  Killed Max  Injured Min  No. of Suicide Blasts  \\\n",
       "count  983.000000   696.00000  988.000000   726.000000             824.000000   \n",
       "mean    32.618279    14.79023   15.253138    31.498623               1.116505   \n",
       "std      2.475619    17.61733   19.957268    38.656426               0.395625   \n",
       "min     24.879503     0.00000    0.000000     0.000000               1.000000   \n",
       "25%     31.823800     3.00000    3.000000     7.000000               1.000000   \n",
       "50%     33.583300     8.00000    8.000000    20.000000               1.000000   \n",
       "75%     34.004300    20.25000   18.000000    40.000000               1.000000   \n",
       "max     35.383300   125.00000  148.000000   320.000000               4.000000   \n",
       "\n",
       "       Temperature(C)  Temperature(F)  \n",
       "count      978.000000      974.000000  \n",
       "mean        21.093650       69.939612  \n",
       "std          8.375656       15.081500  \n",
       "min         -2.370000       27.734000  \n",
       "25%         14.650000       58.282250  \n",
       "50%         21.295000       70.331000  \n",
       "75%         28.145000       82.499000  \n",
       "max         44.000000      111.000000  "
      ]
     },
     "execution_count": 9,
     "metadata": {},
     "output_type": "execute_result"
    }
   ],
   "source": [
    "df.describe()"
   ]
  },
  {
   "cell_type": "code",
   "execution_count": 10,
   "metadata": {},
   "outputs": [
    {
     "data": {
      "text/plain": [
       "Date                         0\n",
       "Islamic Date               310\n",
       "Blast Day Type              21\n",
       "Holiday Type               844\n",
       "Time                       422\n",
       "City                         0\n",
       "Latitude                     5\n",
       "Longitude                    5\n",
       "Province                     0\n",
       "Location                     6\n",
       "Location Category            0\n",
       "Location Sensitivity         0\n",
       "Open/Closed Space           70\n",
       "Influencing Event/Event    610\n",
       "Target Type                  0\n",
       "Targeted Sect if any       794\n",
       "Killed Min                 292\n",
       "Killed Max                   0\n",
       "Injured Min                262\n",
       "Injured Max                 64\n",
       "No. of Suicide Blasts      164\n",
       "Explosive Weight (max)     647\n",
       "Hospital Names             397\n",
       "Temperature(C)              10\n",
       "Temperature(F)              14\n",
       "dtype: int64"
      ]
     },
     "execution_count": 10,
     "metadata": {},
     "output_type": "execute_result"
    }
   ],
   "source": [
    "df.isnull().sum()"
   ]
  },
  {
   "cell_type": "code",
   "execution_count": 11,
   "metadata": {},
   "outputs": [
    {
     "data": {
      "text/plain": [
       "Date                        0.000000\n",
       "Islamic Date               31.376518\n",
       "Blast Day Type              2.125506\n",
       "Holiday Type               85.425101\n",
       "Time                       42.712551\n",
       "City                        0.000000\n",
       "Latitude                    0.506073\n",
       "Longitude                   0.506073\n",
       "Province                    0.000000\n",
       "Location                    0.607287\n",
       "Location Category           0.000000\n",
       "Location Sensitivity        0.000000\n",
       "Open/Closed Space           7.085020\n",
       "Influencing Event/Event    61.740891\n",
       "Target Type                 0.000000\n",
       "Targeted Sect if any       80.364372\n",
       "Killed Min                 29.554656\n",
       "Killed Max                  0.000000\n",
       "Injured Min                26.518219\n",
       "Injured Max                 6.477733\n",
       "No. of Suicide Blasts      16.599190\n",
       "Explosive Weight (max)     65.485830\n",
       "Hospital Names             40.182186\n",
       "Temperature(C)              1.012146\n",
       "Temperature(F)              1.417004\n",
       "dtype: float64"
      ]
     },
     "execution_count": 11,
     "metadata": {},
     "output_type": "execute_result"
    }
   ],
   "source": [
    "(df.isnull().sum() /len(df)) * 100"
   ]
  },
  {
   "cell_type": "code",
   "execution_count": 12,
   "metadata": {},
   "outputs": [
    {
     "data": {
      "text/plain": [
       "['Latitude',\n",
       " 'Killed Min',\n",
       " 'Killed Max',\n",
       " 'Injured Min',\n",
       " 'No. of Suicide Blasts',\n",
       " 'Temperature(C)',\n",
       " 'Temperature(F)']"
      ]
     },
     "execution_count": 12,
     "metadata": {},
     "output_type": "execute_result"
    }
   ],
   "source": [
    "list(df.select_dtypes('float'))"
   ]
  },
  {
   "cell_type": "code",
   "execution_count": 13,
   "metadata": {},
   "outputs": [],
   "source": [
    "outlier = ['Latitude',\n",
    " 'Killed Min',\n",
    " 'Killed Max',\n",
    " 'Injured Min',\n",
    " 'No. of Suicide Blasts',\n",
    " 'Temperature(C)',\n",
    " 'Temperature(F)']"
   ]
  },
  {
   "cell_type": "code",
   "execution_count": 14,
   "metadata": {},
   "outputs": [
    {
     "name": "stdout",
     "output_type": "stream",
     "text": [
      "skewed value in Latitude is : -1.8887960313934844 \n",
      "skewed value in Killed Min is : 2.282920461924725 \n",
      "skewed value in Killed Max is : 2.79823549171246 \n",
      "skewed value in Injured Min is : 2.9053061188958886 \n",
      "skewed value in No. of Suicide Blasts is : 4.045595478582774 \n",
      "skewed value in Temperature(C) is : -0.24421758359788528 \n",
      "skewed value in Temperature(F) is : -0.24432663740198812 \n"
     ]
    }
   ],
   "source": [
    "for i in outlier:\n",
    "    a = df[i].skew()\n",
    "    print(f\"skewed value in {df[i].name} is : {a} \")"
   ]
  },
  {
   "cell_type": "code",
   "execution_count": 15,
   "metadata": {},
   "outputs": [
    {
     "name": "stdout",
     "output_type": "stream",
     "text": [
      "********************************************************************************\n"
     ]
    },
    {
     "data": {
      "image/png": "[encoded data removed]",
      "text/plain": [
       "<Figure size 640x480 with 1 Axes>"
      ]
     },
     "metadata": {},
     "output_type": "display_data"
    },
    {
     "name": "stdout",
     "output_type": "stream",
     "text": [
      "********************************************************************************\n"
     ]
    },
    {
     "data": {
      "image/png": "[encoded data removed]",
      "text/plain": [
       "<Figure size 640x480 with 1 Axes>"
      ]
     },
     "metadata": {},
     "output_type": "display_data"
    },
    {
     "name": "stdout",
     "output_type": "stream",
     "text": [
      "********************************************************************************\n"
     ]
    },
    {
     "data": {
      "image/png": "[encoded data removed]",
      "text/plain": [
       "<Figure size 640x480 with 1 Axes>"
      ]
     },
     "metadata": {},
     "output_type": "display_data"
    },
    {
     "name": "stdout",
     "output_type": "stream",
     "text": [
      "********************************************************************************\n"
     ]
    },
    {
     "data": {
      "image/png": "[encoded data removed]",
      "text/plain": [
       "<Figure size 640x480 with 1 Axes>"
      ]
     },
     "metadata": {},
     "output_type": "display_data"
    },
    {
     "name": "stdout",
     "output_type": "stream",
     "text": [
      "********************************************************************************\n"
     ]
    },
    {
     "data": {
      "image/png": "[encoded data removed]",
      "text/plain": [
       "<Figure size 640x480 with 1 Axes>"
      ]
     },
     "metadata": {},
     "output_type": "display_data"
    },
    {
     "name": "stdout",
     "output_type": "stream",
     "text": [
      "********************************************************************************\n"
     ]
    },
    {
     "data": {
      "image/png": "[encoded data removed]",
      "text/plain": [
       "<Figure size 640x480 with 1 Axes>"
      ]
     },
     "metadata": {},
     "output_type": "display_data"
    },
    {
     "name": "stdout",
     "output_type": "stream",
     "text": [
      "********************************************************************************\n"
     ]
    },
    {
     "data": {
      "image/png": "[encoded data removed]",
      "text/plain": [
       "<Figure size 640x480 with 1 Axes>"
      ]
     },
     "metadata": {},
     "output_type": "display_data"
    }
   ],
   "source": [
    "for x in outlier:\n",
    "    print(\"*\" * 80)\n",
    "    sns.histplot(df,x=df[x], kde=True)\n",
    "    plt.show()"
   ]
  },
  {
   "cell_type": "markdown",
   "metadata": {},
   "source": [
    "### Cleaning the data"
   ]
  },
  {
   "cell_type": "code",
   "execution_count": 16,
   "metadata": {},
   "outputs": [
    {
     "data": {
      "text/plain": [
       "466"
      ]
     },
     "execution_count": 16,
     "metadata": {},
     "output_type": "execute_result"
    }
   ],
   "source": [
    "df.duplicated().sum()"
   ]
  },
  {
   "cell_type": "code",
   "execution_count": 17,
   "metadata": {},
   "outputs": [],
   "source": [
    "df.drop_duplicates(inplace=True)"
   ]
  },
  {
   "cell_type": "code",
   "execution_count": 18,
   "metadata": {},
   "outputs": [
    {
     "data": {
      "text/plain": [
       "0"
      ]
     },
     "execution_count": 18,
     "metadata": {},
     "output_type": "execute_result"
    }
   ],
   "source": [
    "df.duplicated().sum()"
   ]
  },
  {
   "cell_type": "code",
   "execution_count": 19,
   "metadata": {},
   "outputs": [
    {
     "data": {
      "text/plain": [
       "(522, 25)"
      ]
     },
     "execution_count": 19,
     "metadata": {},
     "output_type": "execute_result"
    }
   ],
   "source": [
    "df.shape"
   ]
  },
  {
   "cell_type": "code",
   "execution_count": 20,
   "metadata": {},
   "outputs": [
    {
     "data": {
      "text/html": [
       "<div>\n",
       "<style scoped>\n",
       "    .dataframe tbody tr th:only-of-type {\n",
       "        vertical-align: middle;\n",
       "    }\n",
       "\n",
       "    .dataframe tbody tr th {\n",
       "        vertical-align: top;\n",
       "    }\n",
       "\n",
       "    .dataframe thead th {\n",
       "        text-align: right;\n",
       "    }\n",
       "</style>\n",
       "<table border=\"1\" class=\"dataframe\">\n",
       "  <thead>\n",
       "    <tr style=\"text-align: right;\">\n",
       "      <th></th>\n",
       "      <th>Date</th>\n",
       "      <th>Islamic Date</th>\n",
       "      <th>Blast Day Type</th>\n",
       "      <th>Holiday Type</th>\n",
       "      <th>Time</th>\n",
       "      <th>City</th>\n",
       "      <th>Latitude</th>\n",
       "      <th>Longitude</th>\n",
       "      <th>Province</th>\n",
       "      <th>Location</th>\n",
       "      <th>...</th>\n",
       "      <th>Targeted Sect if any</th>\n",
       "      <th>Killed Min</th>\n",
       "      <th>Killed Max</th>\n",
       "      <th>Injured Min</th>\n",
       "      <th>Injured Max</th>\n",
       "      <th>No. of Suicide Blasts</th>\n",
       "      <th>Explosive Weight (max)</th>\n",
       "      <th>Hospital Names</th>\n",
       "      <th>Temperature(C)</th>\n",
       "      <th>Temperature(F)</th>\n",
       "    </tr>\n",
       "  </thead>\n",
       "  <tbody>\n",
       "    <tr>\n",
       "      <th>317</th>\n",
       "      <td>Sunday-June 12-2011</td>\n",
       "      <td>NaN</td>\n",
       "      <td>Holiday</td>\n",
       "      <td>Weekend</td>\n",
       "      <td>11:45 PM</td>\n",
       "      <td>Peshawar</td>\n",
       "      <td>34.0043</td>\n",
       "      <td>71.5448</td>\n",
       "      <td>KPK</td>\n",
       "      <td>Khyber super market-peshawar cantt</td>\n",
       "      <td>...</td>\n",
       "      <td>NaN</td>\n",
       "      <td>32.0</td>\n",
       "      <td>35.0</td>\n",
       "      <td>80.0</td>\n",
       "      <td>107</td>\n",
       "      <td>1.0</td>\n",
       "      <td>10 Kg</td>\n",
       "      <td>Lady reading hospital</td>\n",
       "      <td>31.050</td>\n",
       "      <td>87.890</td>\n",
       "    </tr>\n",
       "    <tr>\n",
       "      <th>136</th>\n",
       "      <td>Wednesday-November 12-2008</td>\n",
       "      <td>14 Thw al-Qi`dah 1429 A.H</td>\n",
       "      <td>Working Day</td>\n",
       "      <td>NaN</td>\n",
       "      <td>10:00:00 AM</td>\n",
       "      <td>Charsadda</td>\n",
       "      <td>34.1509</td>\n",
       "      <td>71.7359</td>\n",
       "      <td>KPK</td>\n",
       "      <td>attack on security forces camp in Subhan Khaur...</td>\n",
       "      <td>...</td>\n",
       "      <td>NaN</td>\n",
       "      <td>NaN</td>\n",
       "      <td>7.0</td>\n",
       "      <td>10.0</td>\n",
       "      <td>12</td>\n",
       "      <td>1.0</td>\n",
       "      <td>NaN</td>\n",
       "      <td>NaN</td>\n",
       "      <td>19.165</td>\n",
       "      <td>66.497</td>\n",
       "    </tr>\n",
       "    <tr>\n",
       "      <th>411</th>\n",
       "      <td>Thursday-January 9-2014</td>\n",
       "      <td>NaN</td>\n",
       "      <td>Working Day</td>\n",
       "      <td>NaN</td>\n",
       "      <td>NaN</td>\n",
       "      <td>Karachi</td>\n",
       "      <td>24.9918</td>\n",
       "      <td>66.9911</td>\n",
       "      <td>Sindh</td>\n",
       "      <td>Near Essa Nagri at the Lyari Expressway</td>\n",
       "      <td>...</td>\n",
       "      <td>NaN</td>\n",
       "      <td>3.0</td>\n",
       "      <td>3.0</td>\n",
       "      <td>7.0</td>\n",
       "      <td>11</td>\n",
       "      <td>NaN</td>\n",
       "      <td>20-25kg</td>\n",
       "      <td>Agha Khan University Hospital</td>\n",
       "      <td>15.395</td>\n",
       "      <td>59.711</td>\n",
       "    </tr>\n",
       "  </tbody>\n",
       "</table>\n",
       "<p>3 rows × 25 columns</p>\n",
       "</div>"
      ],
      "text/plain": [
       "                           Date               Islamic Date Blast Day Type  \\\n",
       "317         Sunday-June 12-2011                        NaN        Holiday   \n",
       "136  Wednesday-November 12-2008  14 Thw al-Qi`dah 1429 A.H    Working Day   \n",
       "411     Thursday-January 9-2014                        NaN    Working Day   \n",
       "\n",
       "    Holiday Type         Time       City  Latitude Longitude Province  \\\n",
       "317      Weekend     11:45 PM   Peshawar   34.0043   71.5448      KPK   \n",
       "136          NaN  10:00:00 AM  Charsadda   34.1509   71.7359      KPK   \n",
       "411          NaN          NaN    Karachi   24.9918   66.9911    Sindh   \n",
       "\n",
       "                                              Location  ...  \\\n",
       "317                 Khyber super market-peshawar cantt  ...   \n",
       "136  attack on security forces camp in Subhan Khaur...  ...   \n",
       "411            Near Essa Nagri at the Lyari Expressway  ...   \n",
       "\n",
       "    Targeted Sect if any Killed Min Killed Max Injured Min Injured Max  \\\n",
       "317                  NaN       32.0       35.0        80.0         107   \n",
       "136                  NaN        NaN        7.0        10.0          12   \n",
       "411                  NaN        3.0        3.0         7.0          11   \n",
       "\n",
       "    No. of Suicide Blasts  Explosive Weight (max)  \\\n",
       "317                   1.0                   10 Kg   \n",
       "136                   1.0                     NaN   \n",
       "411                   NaN                 20-25kg   \n",
       "\n",
       "                    Hospital Names  Temperature(C) Temperature(F)  \n",
       "317          Lady reading hospital          31.050         87.890  \n",
       "136                            NaN          19.165         66.497  \n",
       "411  Agha Khan University Hospital          15.395         59.711  \n",
       "\n",
       "[3 rows x 25 columns]"
      ]
     },
     "execution_count": 20,
     "metadata": {},
     "output_type": "execute_result"
    }
   ],
   "source": [
    "df.sample(3)"
   ]
  },
  {
   "cell_type": "markdown",
   "metadata": {},
   "source": [
    "Droping extra Columns that are not useful."
   ]
  },
  {
   "cell_type": "code",
   "execution_count": 21,
   "metadata": {},
   "outputs": [],
   "source": [
    "df.drop(columns=['Latitude','Longitude', 'Temperature(C)',\t'Temperature(F)','Injured Min','Killed Min'], axis=1, inplace=True)"
   ]
  },
  {
   "cell_type": "code",
   "execution_count": 22,
   "metadata": {},
   "outputs": [
    {
     "data": {
      "text/html": [
       "<div>\n",
       "<style scoped>\n",
       "    .dataframe tbody tr th:only-of-type {\n",
       "        vertical-align: middle;\n",
       "    }\n",
       "\n",
       "    .dataframe tbody tr th {\n",
       "        vertical-align: top;\n",
       "    }\n",
       "\n",
       "    .dataframe thead th {\n",
       "        text-align: right;\n",
       "    }\n",
       "</style>\n",
       "<table border=\"1\" class=\"dataframe\">\n",
       "  <thead>\n",
       "    <tr style=\"text-align: right;\">\n",
       "      <th></th>\n",
       "      <th>Date</th>\n",
       "      <th>Islamic Date</th>\n",
       "      <th>Blast Day Type</th>\n",
       "      <th>Holiday Type</th>\n",
       "      <th>Time</th>\n",
       "      <th>City</th>\n",
       "      <th>Province</th>\n",
       "      <th>Location</th>\n",
       "      <th>Location Category</th>\n",
       "      <th>Location Sensitivity</th>\n",
       "      <th>Open/Closed Space</th>\n",
       "      <th>Influencing Event/Event</th>\n",
       "      <th>Target Type</th>\n",
       "      <th>Targeted Sect if any</th>\n",
       "      <th>Killed Max</th>\n",
       "      <th>Injured Max</th>\n",
       "      <th>No. of Suicide Blasts</th>\n",
       "      <th>Explosive Weight (max)</th>\n",
       "      <th>Hospital Names</th>\n",
       "    </tr>\n",
       "  </thead>\n",
       "  <tbody>\n",
       "    <tr>\n",
       "      <th>72</th>\n",
       "      <td>Friday-November 9-2007</td>\n",
       "      <td>28 SHawwal 1428 A.H</td>\n",
       "      <td>Holiday</td>\n",
       "      <td>Iqbal Day</td>\n",
       "      <td>4:15:00 PM</td>\n",
       "      <td>Peshawar</td>\n",
       "      <td>KPK</td>\n",
       "      <td>Peshawar  Federal minister \\npolitical amir mu...</td>\n",
       "      <td>Residence</td>\n",
       "      <td>Low</td>\n",
       "      <td>Closed</td>\n",
       "      <td>Political Affairs meeting</td>\n",
       "      <td>Government Official</td>\n",
       "      <td>NaN</td>\n",
       "      <td>4.0</td>\n",
       "      <td>5</td>\n",
       "      <td>1.0</td>\n",
       "      <td>5 to 6 Kg</td>\n",
       "      <td>1.Hayatabad Medical Complex</td>\n",
       "    </tr>\n",
       "  </tbody>\n",
       "</table>\n",
       "</div>"
      ],
      "text/plain": [
       "                      Date         Islamic Date Blast Day Type Holiday Type  \\\n",
       "72  Friday-November 9-2007  28 SHawwal 1428 A.H        Holiday    Iqbal Day   \n",
       "\n",
       "          Time      City Province  \\\n",
       "72  4:15:00 PM  Peshawar      KPK   \n",
       "\n",
       "                                             Location Location Category  \\\n",
       "72  Peshawar  Federal minister \\npolitical amir mu...         Residence   \n",
       "\n",
       "   Location Sensitivity Open/Closed Space    Influencing Event/Event  \\\n",
       "72                  Low            Closed  Political Affairs meeting   \n",
       "\n",
       "            Target Type Targeted Sect if any  Killed Max Injured Max  \\\n",
       "72  Government Official                  NaN         4.0           5   \n",
       "\n",
       "    No. of Suicide Blasts Explosive Weight (max)               Hospital Names  \n",
       "72                    1.0              5 to 6 Kg  1.Hayatabad Medical Complex  "
      ]
     },
     "execution_count": 22,
     "metadata": {},
     "output_type": "execute_result"
    }
   ],
   "source": [
    "df.sample()"
   ]
  },
  {
   "cell_type": "code",
   "execution_count": 23,
   "metadata": {},
   "outputs": [],
   "source": [
    "df['Islamic Date'] = df['Islamic Date'].str.replace('`','')"
   ]
  },
  {
   "cell_type": "code",
   "execution_count": 24,
   "metadata": {},
   "outputs": [],
   "source": [
    "df['Islamic Date'] = df['Islamic Date'].str.replace('A.H','')"
   ]
  },
  {
   "cell_type": "code",
   "execution_count": 25,
   "metadata": {},
   "outputs": [],
   "source": [
    "abc = df['Islamic Date'].str.title()"
   ]
  },
  {
   "cell_type": "markdown",
   "metadata": {},
   "source": [
    "Separating Days from Date column"
   ]
  },
  {
   "cell_type": "code",
   "execution_count": 26,
   "metadata": {},
   "outputs": [],
   "source": [
    "cd = df['Date'].str.replace(' ', '-')"
   ]
  },
  {
   "cell_type": "code",
   "execution_count": 27,
   "metadata": {},
   "outputs": [],
   "source": [
    "df[['Days', 'Date']] = cd.str.split('-', n=1, expand=True)"
   ]
  },
  {
   "cell_type": "code",
   "execution_count": 28,
   "metadata": {},
   "outputs": [
    {
     "data": {
      "text/plain": [
       "Date\n",
       "November     51\n",
       "February     50\n",
       "December     47\n",
       "May          44\n",
       "July         44\n",
       "March        42\n",
       "June         39\n",
       "October      39\n",
       "January      37\n",
       "September    34\n",
       "August       32\n",
       "April        28\n",
       "Feb           8\n",
       "Sep           6\n",
       "Oct           5\n",
       "Aug           4\n",
       "Jan           4\n",
       "Mar           3\n",
       "Apr           2\n",
       "Nov           2\n",
       "Dec           1\n",
       "Name: count, dtype: int64"
      ]
     },
     "execution_count": 28,
     "metadata": {},
     "output_type": "execute_result"
    }
   ],
   "source": [
    "df['Date'].str.split('-').str[0].value_counts()"
   ]
  },
  {
   "cell_type": "code",
   "execution_count": 29,
   "metadata": {},
   "outputs": [],
   "source": [
    "df['Date'] = df['Date'].str.replace('Feb','February')\n",
    "df['Date'] = df['Date'].str.replace('Sep','September')\n",
    "df['Date'] = df['Date'].str.replace('Oct','October')\n",
    "df['Date'] = df['Date'].str.replace('Aug','August')\n",
    "df['Date'] = df['Date'].str.replace('Jan','January')\n",
    "df['Date'] = df['Date'].str.replace('Mar','March')\n",
    "df['Date'] = df['Date'].str.replace('Apr','April')\n",
    "df['Date'] = df['Date'].str.replace('Nov','November')\n",
    "df['Date'] = df['Date'].str.replace('Dec','December')\n"
   ]
  },
  {
   "cell_type": "code",
   "execution_count": 30,
   "metadata": {},
   "outputs": [
    {
     "data": {
      "text/plain": [
       "Date\n",
       "Novemberember      51\n",
       "Februaryruary      50\n",
       "Decemberember      47\n",
       "May                44\n",
       "July               44\n",
       "Marchch            42\n",
       "June               39\n",
       "Octoberober        39\n",
       "Januaryuary        37\n",
       "Septembertember    34\n",
       "Augustust          32\n",
       "Aprilil            28\n",
       "February            8\n",
       "September           6\n",
       "October             5\n",
       "August              4\n",
       "January             4\n",
       "March               3\n",
       "April               2\n",
       "November            2\n",
       "December            1\n",
       "Name: count, dtype: int64"
      ]
     },
     "execution_count": 30,
     "metadata": {},
     "output_type": "execute_result"
    }
   ],
   "source": [
    "df['Date'].str.split('-').str[0].value_counts()"
   ]
  },
  {
   "cell_type": "code",
   "execution_count": 31,
   "metadata": {},
   "outputs": [],
   "source": [
    "df['Date'] = df['Date'].str.replace('Septembertember','September')\n",
    "df['Date'] = df['Date'].str.replace('Augustust','August')\n",
    "df['Date'] = df['Date'].str.replace('Aprilil','April')\n",
    "df['Date'] = df['Date'].str.replace('Januaryuary','January')\n",
    "df['Date'] = df['Date'].str.replace('Octoberober','October')\n",
    "df['Date'] = df['Date'].str.replace('Marchch','March')\n",
    "df['Date'] = df['Date'].str.replace('Decemberember','December')\n",
    "df['Date'] = df['Date'].str.replace('Februaryruary','February')\n",
    "df['Date'] = df['Date'].str.replace('Novemberember','November')\n"
   ]
  },
  {
   "cell_type": "code",
   "execution_count": 32,
   "metadata": {},
   "outputs": [
    {
     "data": {
      "text/plain": [
       "Date\n",
       "February     58\n",
       "November     53\n",
       "December     48\n",
       "March        45\n",
       "May          44\n",
       "July         44\n",
       "October      44\n",
       "January      41\n",
       "September    40\n",
       "June         39\n",
       "August       36\n",
       "April        30\n",
       "Name: count, dtype: int64"
      ]
     },
     "execution_count": 32,
     "metadata": {},
     "output_type": "execute_result"
    }
   ],
   "source": [
    "df['Date'].str.split('-').str[0].value_counts()"
   ]
  },
  {
   "cell_type": "markdown",
   "metadata": {},
   "source": [
    "### Insights Visualization"
   ]
  },
  {
   "cell_type": "code",
   "execution_count": 33,
   "metadata": {},
   "outputs": [
    {
     "data": {
      "text/html": [
       "<div>\n",
       "<style scoped>\n",
       "    .dataframe tbody tr th:only-of-type {\n",
       "        vertical-align: middle;\n",
       "    }\n",
       "\n",
       "    .dataframe tbody tr th {\n",
       "        vertical-align: top;\n",
       "    }\n",
       "\n",
       "    .dataframe thead th {\n",
       "        text-align: right;\n",
       "    }\n",
       "</style>\n",
       "<table border=\"1\" class=\"dataframe\">\n",
       "  <thead>\n",
       "    <tr style=\"text-align: right;\">\n",
       "      <th></th>\n",
       "      <th>Date</th>\n",
       "      <th>Islamic Date</th>\n",
       "      <th>Blast Day Type</th>\n",
       "      <th>Holiday Type</th>\n",
       "      <th>Time</th>\n",
       "      <th>City</th>\n",
       "      <th>Province</th>\n",
       "      <th>Location</th>\n",
       "      <th>Location Category</th>\n",
       "      <th>Location Sensitivity</th>\n",
       "      <th>Open/Closed Space</th>\n",
       "      <th>Influencing Event/Event</th>\n",
       "      <th>Target Type</th>\n",
       "      <th>Targeted Sect if any</th>\n",
       "      <th>Killed Max</th>\n",
       "      <th>Injured Max</th>\n",
       "      <th>No. of Suicide Blasts</th>\n",
       "      <th>Explosive Weight (max)</th>\n",
       "      <th>Hospital Names</th>\n",
       "      <th>Days</th>\n",
       "    </tr>\n",
       "  </thead>\n",
       "  <tbody>\n",
       "    <tr>\n",
       "      <th>106</th>\n",
       "      <td>May-9-2008</td>\n",
       "      <td>4 Jumaada al-awal 1429</td>\n",
       "      <td>Working Day</td>\n",
       "      <td>NaN</td>\n",
       "      <td>Friday Night</td>\n",
       "      <td>Swat</td>\n",
       "      <td>KPK</td>\n",
       "      <td>Mingora police Station</td>\n",
       "      <td>Police</td>\n",
       "      <td>High</td>\n",
       "      <td>Closed</td>\n",
       "      <td>NaN</td>\n",
       "      <td>Police</td>\n",
       "      <td>NaN</td>\n",
       "      <td>1.0</td>\n",
       "      <td>4</td>\n",
       "      <td>1.0</td>\n",
       "      <td>NaN</td>\n",
       "      <td>1.district headquarters hospital saidu sharif</td>\n",
       "      <td>Friday</td>\n",
       "    </tr>\n",
       "  </tbody>\n",
       "</table>\n",
       "</div>"
      ],
      "text/plain": [
       "           Date             Islamic Date Blast Day Type Holiday Type  \\\n",
       "106  May-9-2008  4 Jumaada al-awal 1429     Working Day          NaN   \n",
       "\n",
       "             Time  City Province                 Location Location Category  \\\n",
       "106  Friday Night  Swat      KPK  Mingora police Station             Police   \n",
       "\n",
       "    Location Sensitivity Open/Closed Space Influencing Event/Event  \\\n",
       "106                 High            Closed                     NaN   \n",
       "\n",
       "    Target Type Targeted Sect if any  Killed Max Injured Max  \\\n",
       "106      Police                  NaN         1.0           4   \n",
       "\n",
       "     No. of Suicide Blasts Explosive Weight (max)  \\\n",
       "106                    1.0                    NaN   \n",
       "\n",
       "                                     Hospital Names    Days  \n",
       "106  1.district headquarters hospital saidu sharif   Friday  "
      ]
     },
     "execution_count": 33,
     "metadata": {},
     "output_type": "execute_result"
    }
   ],
   "source": [
    "df.sample()"
   ]
  },
  {
   "cell_type": "code",
   "execution_count": 34,
   "metadata": {},
   "outputs": [
    {
     "data": {
      "text/plain": [
       "Holiday Type\n",
       "Weekend                                45\n",
       "Ashura                                  4\n",
       "Eid Milad un-Nabi                       3\n",
       "Labour Day                              3\n",
       "Eid-ul-Fitar                            3\n",
       "Iqbal Day                               2\n",
       "Pakistan Day                            2\n",
       "Eid Holidays                            2\n",
       "Ashura Holiday                          2\n",
       "Christmas/birthday of Quaid-e-Azam      1\n",
       "Eid-ul-azha                             1\n",
       "Defence Day                             1\n",
       "Christmas/ birthday of Quaid-e-Azam     1\n",
       "General Elections                       1\n",
       "Eid ul Azha Holiday                     1\n",
       "Name: count, dtype: int64"
      ]
     },
     "execution_count": 34,
     "metadata": {},
     "output_type": "execute_result"
    }
   ],
   "source": [
    "df['Holiday Type'].value_counts()"
   ]
  },
  {
   "cell_type": "code",
   "execution_count": 35,
   "metadata": {},
   "outputs": [
    {
     "data": {
      "text/plain": [
       "Blast Day Type\n",
       "Working Day    417\n",
       "Holiday         81\n",
       "Weekend          6\n",
       "Name: count, dtype: int64"
      ]
     },
     "execution_count": 35,
     "metadata": {},
     "output_type": "execute_result"
    }
   ],
   "source": [
    "df['Blast Day Type'].value_counts()"
   ]
  },
  {
   "cell_type": "code",
   "execution_count": 36,
   "metadata": {},
   "outputs": [],
   "source": [
    "df['Province'].replace({'Fata': 'FATA'}, inplace=True)\n",
    "df['Province'].replace({'Baluchistan': 'Balochistan'}, inplace=True)"
   ]
  },
  {
   "cell_type": "code",
   "execution_count": 37,
   "metadata": {},
   "outputs": [
    {
     "data": {
      "image/png": "[encoded data removed]",
      "text/plain": [
       "<Figure size 1000x800 with 1 Axes>"
      ]
     },
     "metadata": {},
     "output_type": "display_data"
    }
   ],
   "source": [
    "plt.figure(figsize=(10,8))\n",
    "plt.title('Most Targeted days in each Province')\n",
    "sns.countplot(df, hue=df['Blast Day Type'], x=df['Province'])\n",
    "plt.xlabel('Provinces')\n",
    "plt.show()"
   ]
  },
  {
   "cell_type": "markdown",
   "metadata": {},
   "source": [
    "Top Targeted Time ranges when Suicide Blasts happen."
   ]
  },
  {
   "cell_type": "code",
   "execution_count": 38,
   "metadata": {},
   "outputs": [
    {
     "data": {
      "text/plain": [
       "array([12,  5,  4,  4,  3,  3,  3,  3,  3,  3], dtype=int64)"
      ]
     },
     "execution_count": 38,
     "metadata": {},
     "output_type": "execute_result"
    }
   ],
   "source": [
    "top_target_time = df['Time'].value_counts().head(10)\n",
    "top_target_time.values"
   ]
  },
  {
   "cell_type": "code",
   "execution_count": 39,
   "metadata": {},
   "outputs": [
    {
     "data": {
      "image/png": "[encoded data removed]",
      "text/plain": [
       "<Figure size 2000x1000 with 1 Axes>"
      ]
     },
     "metadata": {},
     "output_type": "display_data"
    }
   ],
   "source": [
    "plt.figure(figsize=(20,10))\n",
    "ax = sns.barplot(df, x=top_target_time.index,y=top_target_time.values, estimator='sum')\n",
    "ax.bar_label(ax.containers[0], fontsize=10);\n",
    "plt.show()"
   ]
  },
  {
   "cell_type": "markdown",
   "metadata": {},
   "source": [
    "Top Targets of Sucide Attackers."
   ]
  },
  {
   "cell_type": "code",
   "execution_count": 40,
   "metadata": {},
   "outputs": [
    {
     "data": {
      "text/plain": [
       "Target Type\n",
       "Military               132\n",
       "Police                 128\n",
       "Civilian                92\n",
       "Government Official     45\n",
       "Religious               36\n",
       "Anti-Militants          26\n",
       "Foreigner               14\n",
       "civilian                12\n",
       "Government official      8\n",
       "religious                7\n",
       "Name: count, dtype: int64"
      ]
     },
     "execution_count": 40,
     "metadata": {},
     "output_type": "execute_result"
    }
   ],
   "source": [
    "top_targets = df['Target Type'].value_counts().head(10)\n",
    "top_targets"
   ]
  },
  {
   "cell_type": "code",
   "execution_count": 41,
   "metadata": {},
   "outputs": [
    {
     "data": {
      "image/png": "[encoded data removed]",
      "text/plain": [
       "<Figure size 3000x1000 with 1 Axes>"
      ]
     },
     "metadata": {},
     "output_type": "display_data"
    }
   ],
   "source": [
    "plt.figure(figsize=(30,10))\n",
    "ax = sns.barplot(df, x=top_targets.index, y=top_targets.values, estimator='sum')\n",
    "ax.bar_label(ax.containers[0], fontsize=10);\n",
    "\n",
    "plt.show()"
   ]
  },
  {
   "cell_type": "markdown",
   "metadata": {},
   "source": [
    "Top Targeted Location categories."
   ]
  },
  {
   "cell_type": "code",
   "execution_count": 42,
   "metadata": {},
   "outputs": [],
   "source": [
    "Location_category = df['Location Category'].value_counts().head(10)"
   ]
  },
  {
   "cell_type": "code",
   "execution_count": 43,
   "metadata": {},
   "outputs": [
    {
     "data": {
      "image/png": "[encoded data removed]",
      "text/plain": [
       "<Figure size 3000x1000 with 1 Axes>"
      ]
     },
     "metadata": {},
     "output_type": "display_data"
    }
   ],
   "source": [
    "plt.figure(figsize=(30,10))\n",
    "ax = sns.barplot(df, x=Location_category.index, y=Location_category.values, estimator='sum')\n",
    "ax.bar_label(ax.containers[0], fontsize=10);\n",
    "\n",
    "plt.show()"
   ]
  },
  {
   "cell_type": "markdown",
   "metadata": {},
   "source": [
    "Targeted Sects in Suicide Attacks."
   ]
  },
  {
   "cell_type": "code",
   "execution_count": 44,
   "metadata": {},
   "outputs": [
    {
     "data": {
      "text/plain": [
       "Targeted Sect if any\n",
       "Shiite          39\n",
       "Sunni           38\n",
       "Christian       10\n",
       "shiite           9\n",
       "Shiite/sunni     1\n",
       "Jews             1\n",
       "Ahmedi           1\n",
       "Name: count, dtype: int64"
      ]
     },
     "execution_count": 44,
     "metadata": {},
     "output_type": "execute_result"
    }
   ],
   "source": [
    "targeted_sects = df['Targeted Sect if any'].value_counts()\n",
    "targeted_sects"
   ]
  },
  {
   "cell_type": "code",
   "execution_count": 45,
   "metadata": {},
   "outputs": [],
   "source": [
    "df['Targeted Sect if any'] = df['Targeted Sect if any'].str.replace('shiite', 'Shiite')"
   ]
  },
  {
   "cell_type": "code",
   "execution_count": 46,
   "metadata": {},
   "outputs": [],
   "source": [
    "df['Targeted Sect if any'] = df['Targeted Sect if any'].fillna(value='No Sect Targeted', inplace=True)"
   ]
  },
  {
   "cell_type": "code",
   "execution_count": 47,
   "metadata": {},
   "outputs": [
    {
     "data": {
      "image/png": "[encoded data removed]",
      "text/plain": [
       "<Figure size 1000x800 with 1 Axes>"
      ]
     },
     "metadata": {},
     "output_type": "display_data"
    }
   ],
   "source": [
    "plt.figure(figsize=(10,8))\n",
    "plt.title('Sects Targeted by Terrorists')\n",
    "ax = sns.barplot(df, x=targeted_sects.index, y=targeted_sects.values)\n",
    "ax.bar_label(ax.containers[0], fontsize=10);\n",
    "plt.xlabel('Sects')\n",
    "plt.show()"
   ]
  },
  {
   "cell_type": "markdown",
   "metadata": {},
   "source": [
    "Total Blasts Every Year"
   ]
  },
  {
   "cell_type": "code",
   "execution_count": 48,
   "metadata": {},
   "outputs": [],
   "source": [
    "df['Year'] = df['Date'].str.split('-').str[-1]\n",
    "Total_Blast_in_every_year = df['Year'].value_counts()\n",
    "Total_Blast_in_every_year = pd.DataFrame({'Year': Total_Blast_in_every_year.index, 'Count': Total_Blast_in_every_year.values})"
   ]
  },
  {
   "cell_type": "code",
   "execution_count": 49,
   "metadata": {},
   "outputs": [
    {
     "data": {
      "text/html": [
       "<div>\n",
       "<style scoped>\n",
       "    .dataframe tbody tr th:only-of-type {\n",
       "        vertical-align: middle;\n",
       "    }\n",
       "\n",
       "    .dataframe tbody tr th {\n",
       "        vertical-align: top;\n",
       "    }\n",
       "\n",
       "    .dataframe thead th {\n",
       "        text-align: right;\n",
       "    }\n",
       "</style>\n",
       "<table border=\"1\" class=\"dataframe\">\n",
       "  <thead>\n",
       "    <tr style=\"text-align: right;\">\n",
       "      <th></th>\n",
       "      <th>Year</th>\n",
       "      <th>Count</th>\n",
       "    </tr>\n",
       "  </thead>\n",
       "  <tbody>\n",
       "    <tr>\n",
       "      <th>17</th>\n",
       "      <td>1995</td>\n",
       "      <td>1</td>\n",
       "    </tr>\n",
       "    <tr>\n",
       "      <th>16</th>\n",
       "      <td>2000</td>\n",
       "      <td>1</td>\n",
       "    </tr>\n",
       "    <tr>\n",
       "      <th>15</th>\n",
       "      <td>2002</td>\n",
       "      <td>2</td>\n",
       "    </tr>\n",
       "    <tr>\n",
       "      <th>14</th>\n",
       "      <td>2003</td>\n",
       "      <td>2</td>\n",
       "    </tr>\n",
       "    <tr>\n",
       "      <th>12</th>\n",
       "      <td>2004</td>\n",
       "      <td>8</td>\n",
       "    </tr>\n",
       "    <tr>\n",
       "      <th>13</th>\n",
       "      <td>2005</td>\n",
       "      <td>4</td>\n",
       "    </tr>\n",
       "    <tr>\n",
       "      <th>11</th>\n",
       "      <td>2006</td>\n",
       "      <td>9</td>\n",
       "    </tr>\n",
       "    <tr>\n",
       "      <th>3</th>\n",
       "      <td>2007</td>\n",
       "      <td>57</td>\n",
       "    </tr>\n",
       "    <tr>\n",
       "      <th>1</th>\n",
       "      <td>2008</td>\n",
       "      <td>61</td>\n",
       "    </tr>\n",
       "    <tr>\n",
       "      <th>0</th>\n",
       "      <td>2009</td>\n",
       "      <td>90</td>\n",
       "    </tr>\n",
       "    <tr>\n",
       "      <th>2</th>\n",
       "      <td>2010</td>\n",
       "      <td>57</td>\n",
       "    </tr>\n",
       "    <tr>\n",
       "      <th>4</th>\n",
       "      <td>2011</td>\n",
       "      <td>44</td>\n",
       "    </tr>\n",
       "    <tr>\n",
       "      <th>7</th>\n",
       "      <td>2012</td>\n",
       "      <td>32</td>\n",
       "    </tr>\n",
       "    <tr>\n",
       "      <th>5</th>\n",
       "      <td>2013</td>\n",
       "      <td>41</td>\n",
       "    </tr>\n",
       "    <tr>\n",
       "      <th>8</th>\n",
       "      <td>2014</td>\n",
       "      <td>30</td>\n",
       "    </tr>\n",
       "    <tr>\n",
       "      <th>6</th>\n",
       "      <td>2015</td>\n",
       "      <td>36</td>\n",
       "    </tr>\n",
       "    <tr>\n",
       "      <th>10</th>\n",
       "      <td>2016</td>\n",
       "      <td>18</td>\n",
       "    </tr>\n",
       "    <tr>\n",
       "      <th>9</th>\n",
       "      <td>2017</td>\n",
       "      <td>29</td>\n",
       "    </tr>\n",
       "  </tbody>\n",
       "</table>\n",
       "</div>"
      ],
      "text/plain": [
       "    Year  Count\n",
       "17  1995      1\n",
       "16  2000      1\n",
       "15  2002      2\n",
       "14  2003      2\n",
       "12  2004      8\n",
       "13  2005      4\n",
       "11  2006      9\n",
       "3   2007     57\n",
       "1   2008     61\n",
       "0   2009     90\n",
       "2   2010     57\n",
       "4   2011     44\n",
       "7   2012     32\n",
       "5   2013     41\n",
       "8   2014     30\n",
       "6   2015     36\n",
       "10  2016     18\n",
       "9   2017     29"
      ]
     },
     "execution_count": 49,
     "metadata": {},
     "output_type": "execute_result"
    }
   ],
   "source": [
    "sorted_Year = Total_Blast_in_every_year.sort_values(by='Year')\n",
    "sorted_Year"
   ]
  },
  {
   "cell_type": "code",
   "execution_count": 50,
   "metadata": {},
   "outputs": [
    {
     "data": {
      "image/png": "[encoded data removed]",
      "text/plain": [
       "<Figure size 1500x400 with 1 Axes>"
      ]
     },
     "metadata": {},
     "output_type": "display_data"
    }
   ],
   "source": [
    "plt.figure(figsize=(15,4))\n",
    "plt.plot(sorted_Year['Year'],\n",
    "        sorted_Year['Count'])\n",
    "\n",
    "plt.xlabel('Year')\n",
    "plt.ylabel('Total Number of Blasts every Year')\n",
    "plt.grid()\n",
    "plt.show()"
   ]
  },
  {
   "cell_type": "markdown",
   "metadata": {},
   "source": [
    "# Conclusion\n",
    "* The Number of Sucide attacks are maximum in 2009.\n",
    "* In most cases the Targets are Sunni/Shia sects.\n",
    "* The most of the Attacks takes place in KPK.\n",
    "* The most of the attacks time is is evening and noon.\n",
    "* This is also observed that the terrorist targeted during working days.\n",
    "  "
   ]
  }
 ],
 "metadata": {
  "kernelspec": {
   "display_name": "python_ML",
   "language": "python",
   "name": "python3"
  },
  "language_info": {
   "codemirror_mode": {
    "name": "ipython",
    "version": 3
   },
   "file_extension": ".py",
   "mimetype": "text/x-python",
   "name": "python",
   "nbconvert_exporter": "python",
   "pygments_lexer": "ipython3",
   "version": "3.12.3"
  }
 },
 "nbformat": 4,
 "nbformat_minor": 2
}
